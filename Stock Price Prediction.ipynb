{
 "cells": [
  {
   "cell_type": "code",
   "execution_count": null,
   "id": "8c8ca08c",
   "metadata": {},
   "outputs": [],
   "source": [
    "# This program uses an RNN called Long Short Term Memory to predict stock prices of a well known company\n",
    "#Estimation based on 60 days of history. "
   ]
  },
  {
   "cell_type": "code",
   "execution_count": 9,
   "id": "6ade28c8",
   "metadata": {},
   "outputs": [],
   "source": [
    "import math\n",
    "import pandas_datareader as web\n",
    "import numpy as np\n",
    "import pandas as pd\n",
    "from sklearn.preprocessing import MinMaxScaler\n",
    "from keras.models import Sequential\n",
    "from keras.layers import Dense, LSTM\n",
    "import matplotlib.pyplot as plt\n",
    "plt.style.use(\"ggplot\")\n",
    "\n",
    "from pandas_datareader import data as pdr\n",
    "from datetime import datetime,date\n",
    "\n",
    "import yfinance as yf\n"
   ]
  },
  {
   "cell_type": "code",
   "execution_count": 13,
   "id": "bfb1d38c",
   "metadata": {},
   "outputs": [
    {
     "name": "stdout",
     "output_type": "stream",
     "text": [
      "[*********************100%***********************]  1 of 1 completed\n"
     ]
    },
    {
     "data": {
      "text/html": [
       "<div>\n",
       "<style scoped>\n",
       "    .dataframe tbody tr th:only-of-type {\n",
       "        vertical-align: middle;\n",
       "    }\n",
       "\n",
       "    .dataframe tbody tr th {\n",
       "        vertical-align: top;\n",
       "    }\n",
       "\n",
       "    .dataframe thead th {\n",
       "        text-align: right;\n",
       "    }\n",
       "</style>\n",
       "<table border=\"1\" class=\"dataframe\">\n",
       "  <thead>\n",
       "    <tr style=\"text-align: right;\">\n",
       "      <th></th>\n",
       "      <th>Open</th>\n",
       "      <th>High</th>\n",
       "      <th>Low</th>\n",
       "      <th>Close</th>\n",
       "      <th>Adj Close</th>\n",
       "      <th>Volume</th>\n",
       "    </tr>\n",
       "    <tr>\n",
       "      <th>Date</th>\n",
       "      <th></th>\n",
       "      <th></th>\n",
       "      <th></th>\n",
       "      <th></th>\n",
       "      <th></th>\n",
       "      <th></th>\n",
       "    </tr>\n",
       "  </thead>\n",
       "  <tbody>\n",
       "    <tr>\n",
       "      <th>2004-08-19</th>\n",
       "      <td>2.490664</td>\n",
       "      <td>2.591785</td>\n",
       "      <td>2.390042</td>\n",
       "      <td>2.499133</td>\n",
       "      <td>2.499133</td>\n",
       "      <td>897427216</td>\n",
       "    </tr>\n",
       "    <tr>\n",
       "      <th>2004-08-20</th>\n",
       "      <td>2.515820</td>\n",
       "      <td>2.716817</td>\n",
       "      <td>2.503118</td>\n",
       "      <td>2.697639</td>\n",
       "      <td>2.697639</td>\n",
       "      <td>458857488</td>\n",
       "    </tr>\n",
       "    <tr>\n",
       "      <th>2004-08-23</th>\n",
       "      <td>2.758411</td>\n",
       "      <td>2.826406</td>\n",
       "      <td>2.716070</td>\n",
       "      <td>2.724787</td>\n",
       "      <td>2.724787</td>\n",
       "      <td>366857939</td>\n",
       "    </tr>\n",
       "    <tr>\n",
       "      <th>2004-08-24</th>\n",
       "      <td>2.770615</td>\n",
       "      <td>2.779581</td>\n",
       "      <td>2.579581</td>\n",
       "      <td>2.611960</td>\n",
       "      <td>2.611960</td>\n",
       "      <td>306396159</td>\n",
       "    </tr>\n",
       "    <tr>\n",
       "      <th>2004-08-25</th>\n",
       "      <td>2.614201</td>\n",
       "      <td>2.689918</td>\n",
       "      <td>2.587302</td>\n",
       "      <td>2.640104</td>\n",
       "      <td>2.640104</td>\n",
       "      <td>184645512</td>\n",
       "    </tr>\n",
       "    <tr>\n",
       "      <th>...</th>\n",
       "      <td>...</td>\n",
       "      <td>...</td>\n",
       "      <td>...</td>\n",
       "      <td>...</td>\n",
       "      <td>...</td>\n",
       "      <td>...</td>\n",
       "    </tr>\n",
       "    <tr>\n",
       "      <th>2023-05-15</th>\n",
       "      <td>116.489998</td>\n",
       "      <td>118.794998</td>\n",
       "      <td>116.480003</td>\n",
       "      <td>116.959999</td>\n",
       "      <td>116.959999</td>\n",
       "      <td>22107900</td>\n",
       "    </tr>\n",
       "    <tr>\n",
       "      <th>2023-05-16</th>\n",
       "      <td>116.830002</td>\n",
       "      <td>121.199997</td>\n",
       "      <td>116.830002</td>\n",
       "      <td>120.089996</td>\n",
       "      <td>120.089996</td>\n",
       "      <td>32370100</td>\n",
       "    </tr>\n",
       "    <tr>\n",
       "      <th>2023-05-17</th>\n",
       "      <td>120.180000</td>\n",
       "      <td>122.279999</td>\n",
       "      <td>119.459999</td>\n",
       "      <td>121.480003</td>\n",
       "      <td>121.480003</td>\n",
       "      <td>26659600</td>\n",
       "    </tr>\n",
       "    <tr>\n",
       "      <th>2023-05-18</th>\n",
       "      <td>121.559998</td>\n",
       "      <td>123.900002</td>\n",
       "      <td>121.489998</td>\n",
       "      <td>123.519997</td>\n",
       "      <td>123.519997</td>\n",
       "      <td>27014500</td>\n",
       "    </tr>\n",
       "    <tr>\n",
       "      <th>2023-05-19</th>\n",
       "      <td>124.199997</td>\n",
       "      <td>126.478996</td>\n",
       "      <td>122.720001</td>\n",
       "      <td>123.250000</td>\n",
       "      <td>123.250000</td>\n",
       "      <td>30251300</td>\n",
       "    </tr>\n",
       "  </tbody>\n",
       "</table>\n",
       "<p>4721 rows × 6 columns</p>\n",
       "</div>"
      ],
      "text/plain": [
       "                  Open        High         Low       Close   Adj Close  \\\n",
       "Date                                                                     \n",
       "2004-08-19    2.490664    2.591785    2.390042    2.499133    2.499133   \n",
       "2004-08-20    2.515820    2.716817    2.503118    2.697639    2.697639   \n",
       "2004-08-23    2.758411    2.826406    2.716070    2.724787    2.724787   \n",
       "2004-08-24    2.770615    2.779581    2.579581    2.611960    2.611960   \n",
       "2004-08-25    2.614201    2.689918    2.587302    2.640104    2.640104   \n",
       "...                ...         ...         ...         ...         ...   \n",
       "2023-05-15  116.489998  118.794998  116.480003  116.959999  116.959999   \n",
       "2023-05-16  116.830002  121.199997  116.830002  120.089996  120.089996   \n",
       "2023-05-17  120.180000  122.279999  119.459999  121.480003  121.480003   \n",
       "2023-05-18  121.559998  123.900002  121.489998  123.519997  123.519997   \n",
       "2023-05-19  124.199997  126.478996  122.720001  123.250000  123.250000   \n",
       "\n",
       "               Volume  \n",
       "Date                   \n",
       "2004-08-19  897427216  \n",
       "2004-08-20  458857488  \n",
       "2004-08-23  366857939  \n",
       "2004-08-24  306396159  \n",
       "2004-08-25  184645512  \n",
       "...               ...  \n",
       "2023-05-15   22107900  \n",
       "2023-05-16   32370100  \n",
       "2023-05-17   26659600  \n",
       "2023-05-18   27014500  \n",
       "2023-05-19   30251300  \n",
       "\n",
       "[4721 rows x 6 columns]"
      ]
     },
     "execution_count": 13,
     "metadata": {},
     "output_type": "execute_result"
    }
   ],
   "source": [
    "# Get the stock quote\n",
    "yf.pdr_override()\n",
    "from datetime import datetime\n",
    "startdate = datetime(1990,1,1)\n",
    "today = date.today()\n",
    "enddate = today\n",
    "\n",
    "data = pdr.get_data_yahoo('GOOG', start=startdate, end=enddate)\n",
    "data\n"
   ]
  },
  {
   "cell_type": "code",
   "execution_count": 15,
   "id": "7d9fa2fe",
   "metadata": {},
   "outputs": [
    {
     "data": {
      "text/plain": [
       "(4721, 6)"
      ]
     },
     "execution_count": 15,
     "metadata": {},
     "output_type": "execute_result"
    }
   ],
   "source": [
    "data.shape"
   ]
  },
  {
   "cell_type": "code",
   "execution_count": 17,
   "id": "4cc252a3",
   "metadata": {},
   "outputs": [
    {
     "data": {
      "text/plain": [
       "Text(0, 0.5, 'Close $')"
      ]
     },
     "execution_count": 17,
     "metadata": {},
     "output_type": "execute_result"
    },
    {
     "data": {
      "image/png": "[encoded data removed]",
      "text/plain": [
       "<Figure size 432x288 with 1 Axes>"
      ]
     },
     "metadata": {},
     "output_type": "display_data"
    }
   ],
   "source": [
    "# Closing prices visual\n",
    "plt.figure()\n",
    "plt.title(\"Close Price History\")\n",
    "plt.plot(data[\"Close\"])\n",
    "plt.xlabel('Date',fontsize=14)\n",
    "plt.ylabel('Close $', fontsize=15)\n"
   ]
  },
  {
   "cell_type": "code",
   "execution_count": 19,
   "id": "b28b746c",
   "metadata": {},
   "outputs": [
    {
     "data": {
      "text/plain": [
       "3777"
      ]
     },
     "execution_count": 19,
     "metadata": {},
     "output_type": "execute_result"
    }
   ],
   "source": [
    "datacl= data.filter(['Close'])\n",
    "dataclose= datacl.values\n",
    "training_data_length= math.ceil(len(dataclose) * 0.8)\n",
    "\n",
    "training_data_length\n"
   ]
  },
  {
   "cell_type": "code",
   "execution_count": 20,
   "id": "ddf2b063",
   "metadata": {},
   "outputs": [],
   "source": [
    "# Scaling data\n",
    "scaler= MinMaxScaler(feature_range=(0,1))\n",
    "scaleddata= scaler.fit_transform(dataclose)"
   ]
  },
  {
   "cell_type": "code",
   "execution_count": 27,
   "id": "58628e50",
   "metadata": {},
   "outputs": [],
   "source": [
    "# Training set\n",
    "train_data= scaleddata[0:training_data_length,:]"
   ]
  },
  {
   "cell_type": "code",
   "execution_count": 28,
   "id": "8ee041e3",
   "metadata": {},
   "outputs": [],
   "source": [
    "x_train=[] #train features\n",
    "y_train=[] #targets\n",
    "\n",
    "for i in range(60,len(train_data)): #pass last 60 day data as training data and predict 61st day data\n",
    "    x_train.append(train_data[i-60:i,0])\n",
    "    y_train.append(train_data[i,0])\n"
   ]
  },
  {
   "cell_type": "code",
   "execution_count": 30,
   "id": "206dc661",
   "metadata": {},
   "outputs": [
    {
     "data": {
      "text/plain": [
       "(3717, 60)"
      ]
     },
     "execution_count": 30,
     "metadata": {},
     "output_type": "execute_result"
    }
   ],
   "source": [
    "x_train= np.array(x_train)\n",
    "y_train= np.array(y_train)"
   ]
  },
  {
   "cell_type": "code",
   "execution_count": 32,
   "id": "6e7c6ca7",
   "metadata": {},
   "outputs": [
    {
     "data": {
      "text/plain": [
       "(3717, 60, 1)"
      ]
     },
     "execution_count": 32,
     "metadata": {},
     "output_type": "execute_result"
    }
   ],
   "source": [
    "# LSTM expects an input of 3 dimensions: samples, steps, features\n",
    "x_train= np.reshape(x_train,(x_train.shape[0],x_train.shape[1],1))\n",
    "x_train.shape"
   ]
  },
  {
   "cell_type": "code",
   "execution_count": 33,
   "id": "b3856296",
   "metadata": {},
   "outputs": [],
   "source": [
    "# Building the LSTM model (sequential)\n",
    "\n",
    "model= Sequential()\n",
    "model.add(LSTM(60,return_sequences=True, input_shape=(x_train.shape[1],1)))\n",
    "model.add(LSTM(50,return_sequences=False))\n",
    "model.add(Dense(25))\n",
    "model.add(Dense(1))\n"
   ]
  },
  {
   "cell_type": "code",
   "execution_count": 34,
   "id": "97549389",
   "metadata": {},
   "outputs": [],
   "source": [
    "model.compile(optimizer='Adam',loss='mean_squared_error')"
   ]
  },
  {
   "cell_type": "code",
   "execution_count": 37,
   "id": "8acead0e",
   "metadata": {},
   "outputs": [
    {
     "name": "stdout",
     "output_type": "stream",
     "text": [
      "117/117 [==============================] - 2s 21ms/step - loss: 4.9878e-05\n"
     ]
    },
    {
     "data": {
      "text/plain": [
       "<keras.callbacks.History at 0x250fccb49d0>"
      ]
     },
     "execution_count": 37,
     "metadata": {},
     "output_type": "execute_result"
    }
   ],
   "source": [
    "#Training\n",
    "model.fit(x_train,y_train,batch_size=32,epochs=1)"
   ]
  },
  {
   "cell_type": "code",
   "execution_count": 51,
   "id": "76e54d15",
   "metadata": {},
   "outputs": [],
   "source": [
    "#Test set\n",
    "test_data= scaleddata[training_data_length-60:,:]\n",
    "\n",
    "x_test=[]\n",
    "y_test=dataclose[training_data_length:,:]\n",
    "\n",
    "for i in range(60,len(test_data)):\n",
    "    x_test.append(test_data[i-60:i,:]) # still scaled\n",
    "\n",
    "x_test=np.array(x_test)"
   ]
  },
  {
   "cell_type": "code",
   "execution_count": 54,
   "id": "e2f1df37",
   "metadata": {},
   "outputs": [
    {
     "data": {
      "text/plain": [
       "0.36578928215479334"
      ]
     },
     "execution_count": 54,
     "metadata": {},
     "output_type": "execute_result"
    }
   ],
   "source": [
    "#x_test= np.reshape(x_test,(x_test.shape[0],x_test.shape[1],1))\n"
   ]
  },
  {
   "cell_type": "code",
   "execution_count": 55,
   "id": "53b7e5c0",
   "metadata": {},
   "outputs": [
    {
     "name": "stdout",
     "output_type": "stream",
     "text": [
      "30/30 [==============================] - 1s 8ms/step\n"
     ]
    }
   ],
   "source": [
    "# Predictions\n",
    "preds= model.predict(x_test)"
   ]
  },
  {
   "cell_type": "code",
   "execution_count": 57,
   "id": "85357d8f",
   "metadata": {},
   "outputs": [],
   "source": [
    "preds=scaler.inverse_transform(preds)"
   ]
  },
  {
   "cell_type": "code",
   "execution_count": 60,
   "id": "5b709704",
   "metadata": {},
   "outputs": [
    {
     "data": {
      "text/plain": [
       "4.061479917674694"
      ]
     },
     "execution_count": 60,
     "metadata": {},
     "output_type": "execute_result"
    }
   ],
   "source": [
    "rmse=np.sqrt(np.mean(((preds- y_test)**2)))\n"
   ]
  },
  {
   "cell_type": "code",
   "execution_count": 69,
   "id": "afa050ee",
   "metadata": {},
   "outputs": [
    {
     "name": "stderr",
     "output_type": "stream",
     "text": [
      "C:\\Users\\ulas0\\AppData\\Local\\Temp\\ipykernel_5164\\963260394.py:3: SettingWithCopyWarning: \n",
      "A value is trying to be set on a copy of a slice from a DataFrame.\n",
      "Try using .loc[row_indexer,col_indexer] = value instead\n",
      "\n",
      "See the caveats in the documentation: https://pandas.pydata.org/pandas-docs/stable/user_guide/indexing.html#returning-a-view-versus-a-copy\n",
      "  valid['Predictions'] = preds\n"
     ]
    },
    {
     "data": {
      "image/png": "[encoded data removed]",
      "text/plain": [
       "<Figure size 1152x576 with 1 Axes>"
      ]
     },
     "metadata": {},
     "output_type": "display_data"
    }
   ],
   "source": [
    "train= datacl[:training_data_length]\n",
    "valid= datacl[training_data_length:]\n",
    "valid['Predictions'] = preds\n",
    "\n",
    "plt.figure(figsize=(16,8))\n",
    "plt.title(\"Model with preds\")\n",
    "plt.xlabel(\"Date\",fontsize=18)\n",
    "plt.ylabel(\"Close $\",fontsize=18)\n",
    "plt.plot(train['Close'])\n",
    "plt.plot(valid[['Close', 'Predictions']])\n",
    "plt.legend(['Train', 'Vals', 'Preds'])\n",
    "plt.show()\n"
   ]
  },
  {
   "cell_type": "code",
   "execution_count": 71,
   "id": "62af3675",
   "metadata": {},
   "outputs": [
    {
     "data": {
      "text/html": [
       "<div>\n",
       "<style scoped>\n",
       "    .dataframe tbody tr th:only-of-type {\n",
       "        vertical-align: middle;\n",
       "    }\n",
       "\n",
       "    .dataframe tbody tr th {\n",
       "        vertical-align: top;\n",
       "    }\n",
       "\n",
       "    .dataframe thead th {\n",
       "        text-align: right;\n",
       "    }\n",
       "</style>\n",
       "<table border=\"1\" class=\"dataframe\">\n",
       "  <thead>\n",
       "    <tr style=\"text-align: right;\">\n",
       "      <th></th>\n",
       "      <th>Close</th>\n",
       "      <th>Predictions</th>\n",
       "    </tr>\n",
       "    <tr>\n",
       "      <th>Date</th>\n",
       "      <th></th>\n",
       "      <th></th>\n",
       "    </tr>\n",
       "  </thead>\n",
       "  <tbody>\n",
       "    <tr>\n",
       "      <th>2019-08-21</th>\n",
       "      <td>59.562500</td>\n",
       "      <td>58.777985</td>\n",
       "    </tr>\n",
       "    <tr>\n",
       "      <th>2019-08-22</th>\n",
       "      <td>59.476501</td>\n",
       "      <td>58.873142</td>\n",
       "    </tr>\n",
       "    <tr>\n",
       "      <th>2019-08-23</th>\n",
       "      <td>57.564499</td>\n",
       "      <td>58.961933</td>\n",
       "    </tr>\n",
       "    <tr>\n",
       "      <th>2019-08-26</th>\n",
       "      <td>58.444500</td>\n",
       "      <td>58.791325</td>\n",
       "    </tr>\n",
       "    <tr>\n",
       "      <th>2019-08-27</th>\n",
       "      <td>58.391998</td>\n",
       "      <td>58.640598</td>\n",
       "    </tr>\n",
       "    <tr>\n",
       "      <th>...</th>\n",
       "      <td>...</td>\n",
       "      <td>...</td>\n",
       "    </tr>\n",
       "    <tr>\n",
       "      <th>2023-05-15</th>\n",
       "      <td>116.959999</td>\n",
       "      <td>109.251488</td>\n",
       "    </tr>\n",
       "    <tr>\n",
       "      <th>2023-05-16</th>\n",
       "      <td>120.089996</td>\n",
       "      <td>110.814209</td>\n",
       "    </tr>\n",
       "    <tr>\n",
       "      <th>2023-05-17</th>\n",
       "      <td>121.480003</td>\n",
       "      <td>112.485832</td>\n",
       "    </tr>\n",
       "    <tr>\n",
       "      <th>2023-05-18</th>\n",
       "      <td>123.519997</td>\n",
       "      <td>114.125946</td>\n",
       "    </tr>\n",
       "    <tr>\n",
       "      <th>2023-05-19</th>\n",
       "      <td>123.250000</td>\n",
       "      <td>115.793991</td>\n",
       "    </tr>\n",
       "  </tbody>\n",
       "</table>\n",
       "<p>944 rows × 2 columns</p>\n",
       "</div>"
      ],
      "text/plain": [
       "                 Close  Predictions\n",
       "Date                               \n",
       "2019-08-21   59.562500    58.777985\n",
       "2019-08-22   59.476501    58.873142\n",
       "2019-08-23   57.564499    58.961933\n",
       "2019-08-26   58.444500    58.791325\n",
       "2019-08-27   58.391998    58.640598\n",
       "...                ...          ...\n",
       "2023-05-15  116.959999   109.251488\n",
       "2023-05-16  120.089996   110.814209\n",
       "2023-05-17  121.480003   112.485832\n",
       "2023-05-18  123.519997   114.125946\n",
       "2023-05-19  123.250000   115.793991\n",
       "\n",
       "[944 rows x 2 columns]"
      ]
     },
     "execution_count": 71,
     "metadata": {},
     "output_type": "execute_result"
    }
   ],
   "source": [
    "valid"
   ]
  },
  {
   "cell_type": "code",
   "execution_count": 85,
   "id": "872b9ec2",
   "metadata": {},
   "outputs": [],
   "source": [
    "#Predict the price for tomorrow (or Monday, since market is closed on weekends)\n",
    "goog_quote= data\n",
    "new_df= goog_quote.filter(['Close'])\n",
    "lastsd= new_df[-60:].values\n",
    "lastsd_scaled= scaler.transform(lastsd)\n",
    "X_test=[]\n",
    "X_test.append(lastsd_scaled)\n",
    "X_test=np.array(X_test)\n",
    "X_test=np.reshape(X_test, (X_test.shape[0],X_test.shape[1],1))\n",
    "\n",
    "\n"
   ]
  },
  {
   "cell_type": "code",
   "execution_count": 86,
   "id": "1df9097b",
   "metadata": {},
   "outputs": [
    {
     "name": "stdout",
     "output_type": "stream",
     "text": [
      "1/1 [==============================] - 0s 19ms/step\n",
      "[[117.172905]]\n"
     ]
    }
   ],
   "source": [
    "pred_nprice= model.predict(X_test)\n",
    "pred_nprice= scaler.inverse_transform(pred_nprice)\n",
    "print(pred_nprice)"
   ]
  },
  {
   "cell_type": "code",
   "execution_count": null,
   "id": "9eff1c8e",
   "metadata": {},
   "outputs": [],
   "source": []
  }
 ],
 "metadata": {
  "kernelspec": {
   "display_name": "Python 3 (ipykernel)",
   "language": "python",
   "name": "python3"
  },
  "language_info": {
   "codemirror_mode": {
    "name": "ipython",
    "version": 3
   },
   "file_extension": ".py",
   "mimetype": "text/x-python",
   "name": "python",
   "nbconvert_exporter": "python",
   "pygments_lexer": "ipython3",
   "version": "3.9.12"
  }
 },
 "nbformat": 4,
 "nbformat_minor": 5
}
